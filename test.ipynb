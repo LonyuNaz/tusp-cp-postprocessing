{
 "cells": [
  {
   "cell_type": "code",
   "execution_count": null,
   "metadata": {},
   "outputs": [],
   "source": [
    "import re"
   ]
  },
  {
   "cell_type": "code",
   "execution_count": null,
   "metadata": {},
   "outputs": [],
   "source": [
    "m = re.findall(r'\\(.*\\)', '00:000 (move_aside_across_tracks train_ddz_1 track_entry track_t_401)')\n",
    "m"
   ]
  },
  {
   "cell_type": "code",
   "execution_count": null,
   "metadata": {},
   "outputs": [],
   "source": [
    "file = \"sas_plan\"\n",
    "\n",
    "with open(file, 'r') as f:\n",
    "    lines = f.readlines()\n",
    "\n",
    "parsed_lines = [re.findall(r'\\(.*\\)', line)[0][1:-1] for line in lines if any(x in line for x in ('track', 'train'))]\n",
    "parsed_lines"
   ]
  },
  {
   "cell_type": "code",
   "execution_count": null,
   "metadata": {},
   "outputs": [],
   "source": [
    "def extract_objects(lines):\n",
    "    trains = set()\n",
    "    tracks = set()\n",
    "    for line in lines:\n",
    "        elements = line.split(' ')\n",
    "        train_names = set([t for t in elements if t.startswith('train_')])\n",
    "        track_names = set([t for t in elements if t.startswith('track_')])\n",
    "        trains = trains.union(train_names)\n",
    "        tracks = tracks.union(track_names)\n",
    "    return trains, tracks\n",
    "\n",
    "trains, tracks = extract_objects(parsed_lines)\n",
    "trains, tracks"
   ]
  },
  {
   "cell_type": "code",
   "execution_count": 61,
   "metadata": {},
   "outputs": [
    {
     "data": {
      "text/plain": [
       "[('aside', 'train_ddz_1', 'track_entry', 'track_t_401'),\n",
       " ('aside', 'train_ddz_2', 'track_entry', 'track_t_401'),\n",
       " ('aside', 'train_ddz_3', 'track_entry', 'track_t_402')]"
      ]
     },
     "execution_count": 61,
     "metadata": {},
     "output_type": "execute_result"
    }
   ],
   "source": [
    "def extract_movements(lines):\n",
    "    movements = []\n",
    "    for line in lines:\n",
    "        if not line.startswith('move'):\n",
    "            continue\n",
    "        direction = 'aside' if 'aside' in line else 'bside'\n",
    "        train = re.findall(r'train_\\w+', line)[0]\n",
    "        [track_from, track_to] = re.findall(r'track_\\w+', line)\n",
    "        movements.append((direction, train, track_from, track_to))\n",
    "    return movements\n",
    "\n",
    "movements = extract_movements(parsed_lines)\n",
    "movements"
   ]
  },
  {
   "cell_type": "code",
   "execution_count": 53,
   "metadata": {},
   "outputs": [],
   "source": [
    "def organize_movements(trains, tracks, movements):\n",
    "\n",
    "    train_movements = {t:[] for t in trains}\n",
    "    track_movements = {t:[] for t in tracks}\n",
    "\n",
    "    for train in trains:\n",
    "        for idx, movement in enumerate(movements):\n",
    "            if train in movement:\n",
    "                train_movements[train].append((idx+1, *movement))\n",
    "            \n",
    "    for track in tracks:\n",
    "        for idx, movement in enumerate(movements):\n",
    "            if track in movement:\n",
    "                track_movements[track].append((idx+1, *movement))\n",
    "\n",
    "    return train_movements, track_movements\n",
    "train_moves, track_moves = organize_movements(trains, tracks, movements)\n"
   ]
  },
  {
   "cell_type": "code",
   "execution_count": 62,
   "metadata": {},
   "outputs": [
    {
     "data": {
      "text/plain": [
       "{(0, 1)}"
      ]
     },
     "execution_count": 62,
     "metadata": {},
     "output_type": "execute_result"
    }
   ],
   "source": [
    "def no_overlap_pairs(train_movements, movements):\n",
    "    \n",
    "    no_overlaps = set()\n",
    "\n",
    "    for train in train_movements.keys():\n",
    "        if len(train_movements[train]) <= 1:\n",
    "            continue\n",
    "        for i in range(len(train_movements[train])-1):\n",
    "            no_overlaps.add((train_movements[train][i][0], \n",
    "                             train_movements[train][i+1][0]))\n",
    "\n",
    "    for i in range(len(movements)):\n",
    "        for j in range(len(movements)):\n",
    "            if i == j or j < i:\n",
    "                continue\n",
    "        \n",
    "            from_1, to_1 = movements[i][2], movements[i][3]\n",
    "            from_2, to_2 = movements[j][2], movements[j][3]\n",
    "\n",
    "            if from_1 == to_2 or to_1 == to_2:\n",
    "                no_overlaps.add((i, \n",
    "                                 j))        \n",
    "        \n",
    "        return no_overlaps\n",
    "\n",
    "no_overlaps = no_overlap_pairs(train_moves, movements)\n",
    "no_overlaps"
   ]
  },
  {
   "cell_type": "code",
   "execution_count": 63,
   "metadata": {},
   "outputs": [
    {
     "data": {
      "text/plain": [
       "{(1, 2), (2, 3)}"
      ]
     },
     "execution_count": 63,
     "metadata": {},
     "output_type": "execute_result"
    }
   ],
   "source": [
    "def ordered_action_pairs(track_movements, overlap_pairs):\n",
    "    ordered_pairs = set()\n",
    "    for track in track_movements.keys():\n",
    "        if len(track_movements[track]) <= 1:\n",
    "            continue\n",
    "        for i in range(len(track_movements[track])-1):\n",
    "            pair = (track_movements[track][i][0], \n",
    "                             track_movements[track][i+1][0])\n",
    "            if pair not in overlap_pairs:\n",
    "                ordered_pairs.add(pair)\n",
    "    return ordered_pairs\n",
    "\n",
    "ordered_pairs = ordered_action_pairs(track_moves, no_overlaps)\n",
    "ordered_pairs"
   ]
  }
 ],
 "metadata": {
  "kernelspec": {
   "display_name": "Python 3",
   "language": "python",
   "name": "python3"
  },
  "language_info": {
   "codemirror_mode": {
    "name": "ipython",
    "version": 3
   },
   "file_extension": ".py",
   "mimetype": "text/x-python",
   "name": "python",
   "nbconvert_exporter": "python",
   "pygments_lexer": "ipython3",
   "version": "3.12.3"
  }
 },
 "nbformat": 4,
 "nbformat_minor": 2
}
