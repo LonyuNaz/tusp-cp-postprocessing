{
 "cells": [
  {
   "cell_type": "code",
   "execution_count": 2,
   "metadata": {},
   "outputs": [],
   "source": [
    "from run_mzn import run_mzn\n",
    "from plan_to_dzn import PlanToDZN\n",
    "from mzn_arr_to_schedule import arr_to_schedule\n",
    "import matplotlib.pyplot as plt\n",
    "from mpl_toolkits.axes_grid1 import make_axes_locatable"
   ]
  },
  {
   "cell_type": "code",
   "execution_count": 3,
   "metadata": {},
   "outputs": [],
   "source": [
    "p2d = PlanToDZN(2, False)\n",
    "p2d.create_from_file('ext_plan.plan')"
   ]
  },
  {
   "cell_type": "code",
   "execution_count": 17,
   "metadata": {},
   "outputs": [
    {
     "name": "stdout",
     "output_type": "stream",
     "text": [
      "{\"type\": \"statistics\", \"statistics\": {\"paths\": 0, \"flatIntVars\": 13, \"flatIntConstraints\": 53, \"method\": \"minimize\", \"flatTime\": 0.100312}}\n",
      "{\"type\": \"statistics\", \"statistics\": {\"nSolutions\": 13}}\n"
     ]
    },
    {
     "name": "stderr",
     "output_type": "stream",
     "text": [
      "WARNING: the --time-out flag has recently been changed.The time-out is now provided in milliseconds instead of seconds\n"
     ]
    },
    {
     "ename": "KeyError",
     "evalue": "'default'",
     "output_type": "error",
     "traceback": [
      "\u001b[0;31m---------------------------------------------------------------------------\u001b[0m",
      "\u001b[0;31mKeyError\u001b[0m                                  Traceback (most recent call last)",
      "Cell \u001b[0;32mIn[17], line 1\u001b[0m\n\u001b[0;32m----> 1\u001b[0m train_schedule, driver_schedule \u001b[38;5;241m=\u001b[39m \u001b[43mrun_mzn\u001b[49m\u001b[43m(\u001b[49m\u001b[38;5;241;43m300\u001b[39;49m\u001b[43m,\u001b[49m\u001b[43m \u001b[49m\u001b[38;5;124;43m'\u001b[39;49m\u001b[38;5;124;43mchuffed\u001b[39;49m\u001b[38;5;124;43m'\u001b[39;49m\u001b[43m)\u001b[49m\n",
      "File \u001b[0;32m~/Desktop/nazar/thesis/tusp-cp-postprocessing/run_mzn.py:32\u001b[0m, in \u001b[0;36mrun_mzn\u001b[0;34m(timeout_seconds, solver_name)\u001b[0m\n\u001b[1;32m     30\u001b[0m \u001b[38;5;28;01mdef\u001b[39;00m \u001b[38;5;21mrun_mzn\u001b[39m(timeout_seconds: \u001b[38;5;28mint\u001b[39m, solver_name: \u001b[38;5;28mstr\u001b[39m):\n\u001b[1;32m     31\u001b[0m     run_and_wait_for_output(timeout_seconds, solver_name)\n\u001b[0;32m---> 32\u001b[0m     train_schedule, driver_schedule \u001b[38;5;241m=\u001b[39m \u001b[43mparse_output_json\u001b[49m\u001b[43m(\u001b[49m\u001b[43m)\u001b[49m\n\u001b[1;32m     33\u001b[0m     \u001b[38;5;28;01mreturn\u001b[39;00m train_schedule, driver_schedule\n",
      "File \u001b[0;32m~/Desktop/nazar/thesis/tusp-cp-postprocessing/run_mzn.py:26\u001b[0m, in \u001b[0;36mparse_output_json\u001b[0;34m()\u001b[0m\n\u001b[1;32m     24\u001b[0m     line_dict \u001b[38;5;241m=\u001b[39m json\u001b[38;5;241m.\u001b[39mloads(line)\n\u001b[1;32m     25\u001b[0m     \u001b[38;5;28;01mif\u001b[39;00m line_dict[\u001b[38;5;124m'\u001b[39m\u001b[38;5;124mtype\u001b[39m\u001b[38;5;124m'\u001b[39m] \u001b[38;5;241m==\u001b[39m \u001b[38;5;124m'\u001b[39m\u001b[38;5;124msolution\u001b[39m\u001b[38;5;124m'\u001b[39m:\n\u001b[0;32m---> 26\u001b[0m         [train_schedule, driver_schedule] \u001b[38;5;241m=\u001b[39m \u001b[43mline_dict\u001b[49m\u001b[43m[\u001b[49m\u001b[38;5;124;43m'\u001b[39;49m\u001b[38;5;124;43moutput\u001b[39;49m\u001b[38;5;124;43m'\u001b[39;49m\u001b[43m]\u001b[49m\u001b[43m[\u001b[49m\u001b[38;5;124;43m\"\u001b[39;49m\u001b[38;5;124;43mdefault\u001b[39;49m\u001b[38;5;124;43m\"\u001b[39;49m\u001b[43m]\u001b[49m\u001b[38;5;241m.\u001b[39msplit(\u001b[38;5;124m'\u001b[39m\u001b[38;5;124m][\u001b[39m\u001b[38;5;124m'\u001b[39m)\n\u001b[1;32m     27\u001b[0m \u001b[38;5;28;01mreturn\u001b[39;00m mzn_arr_to_numpy(train_schedule), mzn_arr_to_numpy(driver_schedule)\n",
      "\u001b[0;31mKeyError\u001b[0m: 'default'"
     ]
    }
   ],
   "source": [
    "train_schedule, driver_schedule = run_mzn(300, 'chuffed')"
   ]
  },
  {
   "cell_type": "code",
   "execution_count": null,
   "metadata": {},
   "outputs": [],
   "source": [
    "train_schedule"
   ]
  },
  {
   "cell_type": "code",
   "execution_count": null,
   "metadata": {},
   "outputs": [],
   "source": [
    "driver_schedule"
   ]
  },
  {
   "cell_type": "code",
   "execution_count": null,
   "metadata": {},
   "outputs": [],
   "source": [
    "plt.figure(figsize=(10,5))\n",
    "plt.imshow(train_schedule, aspect='auto')\n",
    "plt.colorbar()\n",
    "plt.grid(True)"
   ]
  },
  {
   "cell_type": "code",
   "execution_count": null,
   "metadata": {},
   "outputs": [],
   "source": [
    "plt.figure(figsize=(20,5))\n",
    "plt.imshow(driver_schedule, aspect=5)\n",
    "plt.colorbar()\n",
    "plt.grid(True)"
   ]
  }
 ],
 "metadata": {
  "kernelspec": {
   "display_name": "Python 3",
   "language": "python",
   "name": "python3"
  },
  "language_info": {
   "codemirror_mode": {
    "name": "ipython",
    "version": 3
   },
   "file_extension": ".py",
   "mimetype": "text/x-python",
   "name": "python",
   "nbconvert_exporter": "python",
   "pygments_lexer": "ipython3",
   "version": "3.12.3"
  }
 },
 "nbformat": 4,
 "nbformat_minor": 2
}
